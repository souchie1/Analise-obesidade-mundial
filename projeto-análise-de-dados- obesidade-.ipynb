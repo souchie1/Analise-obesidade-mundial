{
 "cells": [
  {
   "cell_type": "markdown",
   "id": "38ea43ec",
   "metadata": {},
   "source": [
    "[Obesity among adults by country, 1975-2016](https://www.kaggle.com/amanarora/obesity-among-adults-by-country-19752016/)\n"
   ]
  },
  {
   "cell_type": "code",
   "execution_count": null,
   "id": "accompanied-startup",
   "metadata": {},
   "outputs": [],
   "source": [
    "import pandas as pd\n",
    "import numpy as np\n",
    "import plotly \n",
    "import matplotlib.pyplot as plt\n"
   ]
  },
  {
   "cell_type": "code",
   "execution_count": null,
   "id": "nervous-peripheral",
   "metadata": {},
   "outputs": [],
   "source": [
    "df_obesity = pd.read_csv(r\"I:\\ARQUIVOS PROJETOS\\Análise de dados de Obesidade e PIB\\analise-de-obesidade-e-pib-per-capita\\Datasets/obesity_cleaned.csv\")"
   ]
  },
  {
   "cell_type": "code",
   "execution_count": null,
   "id": "34daade0",
   "metadata": {},
   "outputs": [],
   "source": [
    "# Criar variáveis para trabalhar com colunas específicas\n",
    "countries = df_obesity['Country']\n",
    "years = df_obesity['Year']\n",
    "obesity_percentages = df_obesity['Obesity (%)']\n",
    "sexes = df_obesity['Sex']\n",
    "\n",
    "# Exemplo de como você pode usar essas variáveis\n",
    "for country, year, obesity_percentage, sex in zip(countries, years, obesity_percentages, sexes):\n",
    "    print(f\"Country: {country}, Year: {year}, Obesity: {obesity_percentage}, Sex: {sex}\")"
   ]
  },
  {
   "cell_type": "code",
   "execution_count": null,
   "id": "d4065f4b",
   "metadata": {},
   "outputs": [],
   "source": [
    "df_obesity.head()"
   ]
  },
  {
   "cell_type": "code",
   "execution_count": null,
   "id": "f9f57385",
   "metadata": {},
   "outputs": [],
   "source": [
    "df_obesity.tail()"
   ]
  },
  {
   "cell_type": "code",
   "execution_count": null,
   "id": "ff7ff6f1",
   "metadata": {},
   "outputs": [],
   "source": [
    "df_obesity.shape"
   ]
  },
  {
   "cell_type": "code",
   "execution_count": null,
   "id": "2062325d",
   "metadata": {},
   "outputs": [],
   "source": [
    "df_obesity.info()"
   ]
  },
  {
   "cell_type": "code",
   "execution_count": null,
   "id": "567ee016",
   "metadata": {},
   "outputs": [],
   "source": [
    "df_obesity.dtypes.value_counts()"
   ]
  },
  {
   "cell_type": "code",
   "execution_count": null,
   "id": "b91717fb",
   "metadata": {},
   "outputs": [],
   "source": [
    "# Excluir a coluna 'Unnamed: 0'\n",
    "df_obesity = df_obesity.drop('Unnamed: 0', axis=1, errors='ignore')\n",
    "\n"
   ]
  },
  {
   "cell_type": "code",
   "execution_count": null,
   "id": "cc3e4dc9",
   "metadata": {},
   "outputs": [],
   "source": [
    "df_obesity.head()"
   ]
  },
  {
   "cell_type": "code",
   "execution_count": null,
   "id": "f9bb2fe8",
   "metadata": {},
   "outputs": [],
   "source": [
    "df_obesity.isnull().sum()"
   ]
  },
  {
   "cell_type": "code",
   "execution_count": null,
   "id": "c8ddea39",
   "metadata": {},
   "outputs": [],
   "source": [
    "df_obesity.isna().sum()"
   ]
  },
  {
   "cell_type": "code",
   "execution_count": null,
   "id": "d86859fe",
   "metadata": {},
   "outputs": [],
   "source": [
    "df_obesity.columns"
   ]
  },
  {
   "cell_type": "code",
   "execution_count": null,
   "id": "28768a4c",
   "metadata": {},
   "outputs": [],
   "source": [
    "# Supondo que seu DataFrame seja df_obesity\n",
    "df_obesity.set_index('Year', inplace=True)\n"
   ]
  },
  {
   "cell_type": "code",
   "execution_count": null,
   "id": "b1a646f9",
   "metadata": {},
   "outputs": [],
   "source": [
    "df_obesity.head()"
   ]
  },
  {
   "cell_type": "code",
   "execution_count": null,
   "id": "316eedb9",
   "metadata": {},
   "outputs": [],
   "source": [
    "# Substituir \"No\" por NaN na coluna 'Obesity (%)'\n",
    "df_obesity[\"Obesity (%)\"].replace(\"No\", np.nan, inplace=True)\n",
    "\n",
    "# Extrair apenas a parte numérica antes do espaço na coluna 'Obesity (%)' e converter para float\n",
    "def extract_obesity(x):\n",
    "    try:\n",
    "        return float(x.split(\" \")[0])\n",
    "    except ValueError:\n",
    "        return np.nan\n",
    "\n",
    "df_obesity[\"Obesity\"] = df_obesity[\"Obesity (%)\"].apply(extract_obesity)\n"
   ]
  },
  {
   "cell_type": "code",
   "execution_count": null,
   "id": "69ef930c",
   "metadata": {},
   "outputs": [],
   "source": [
    "df_obesity.head()"
   ]
  },
  {
   "cell_type": "code",
   "execution_count": null,
   "id": "a31cb216",
   "metadata": {},
   "outputs": [],
   "source": [
    "df_obesity.info()"
   ]
  },
  {
   "cell_type": "code",
   "execution_count": null,
   "id": "5be6c85d",
   "metadata": {},
   "outputs": [],
   "source": [
    "df_obesity['Country'].unique()"
   ]
  },
  {
   "cell_type": "code",
   "execution_count": null,
   "id": "light-filling",
   "metadata": {},
   "outputs": [],
   "source": [
    "mean_obesity_by_sex = df_obesity.groupby('Sex')['Obesity'].mean()"
   ]
  },
  {
   "cell_type": "code",
   "execution_count": null,
   "id": "d53fb880",
   "metadata": {},
   "outputs": [],
   "source": [
    "mean_obesity_by_sex "
   ]
  },
  {
   "cell_type": "code",
   "execution_count": null,
   "id": "83bbee2a",
   "metadata": {},
   "outputs": [],
   "source": [
    "import plotly.graph_objects as go\n",
    "# Criar figura\n",
    "fig = go.Figure()\n",
    "\n",
    "# Adicionar barras para cada sexo\n",
    "for sex, mean_obesity in mean_obesity_by_sex.items():\n",
    "    fig.add_trace(go.Bar(\n",
    "        x=[sex],\n",
    "        y=[mean_obesity],\n",
    "        name=sex\n",
    "    ))\n",
    "\n",
    "# Atualizar layout do gráfico\n",
    "fig.update_layout(\n",
    "    title='Percentual Médio de Obesidade por Sexo',\n",
    "    xaxis=dict(title='Sexo'),\n",
    "    yaxis=dict(title='Percentual de Obesidade'),\n",
    "    barmode='group'  # agrupar as barras por categoria (sexo)\n",
    ")\n",
    "\n",
    "# Exibir o gráfico\n",
    "fig.show()"
   ]
  },
  {
   "cell_type": "code",
   "execution_count": null,
   "id": "6a3a13c9",
   "metadata": {},
   "outputs": [],
   "source": [
    "# Gráfico de Linhas Comparando Homens e Mulheres\n",
    "plt.figure(figsize=(12, 6))\n",
    "sns.lineplot(data=df_obesity, x='Year', y='Obesity (%)', hue='Sex', style='Sex')\n",
    "plt.title('Comparação de Prevalência de Obesidade entre Homens e Mulheres')\n",
    "plt.xlabel('Ano')\n",
    "plt.ylabel('Obesidade (%)')\n",
    "plt.legend(title='Sexo', bbox_to_anchor=(1.05, 1), loc='upper left')\n",
    "plt.grid(True)\n",
    "plt.show()\n"
   ]
  },
  {
   "cell_type": "code",
   "execution_count": null,
   "id": "7dd38ca0",
   "metadata": {},
   "outputs": [],
   "source": [
    "# Encontrar o índice do máximo valor na coluna 'Obesity'\n",
    "max_obesity_index = df_obesity['Obesity'].idxmax()\n",
    "\n",
    "# Obter as informações do país e sexo correspondentes\n",
    "country_max_obesity = df_obesity.loc[max_obesity_index, 'Country']\n",
    "sex_max_obesity = df_obesity.loc[max_obesity_index, 'Sex']\n",
    "max_obesity_percent = df_obesity.loc[max_obesity_index, 'Obesity']\n",
    "\n",
    "# Exibir o resultado\n",
    "print(f\"País com maior obesidade: {country_max_obesity}\")\n",
    "print(f\"Sexo com maior obesidade: {sex_max_obesity}\")\n",
    "print(f\"Percentual de obesidade: {max_obesity_percent}%\")\n"
   ]
  },
  {
   "cell_type": "code",
   "execution_count": null,
   "id": "e0511673",
   "metadata": {},
   "outputs": [],
   "source": [
    "import plotly.express as px\n",
    "\n",
    "# Substitua 'df_obesity' pelo nome real do seu DataFrame\n",
    "fig = px.bar(df_obesity, x='Sex', y='Obesity', color='Country',\n",
    "             title='Percentual de Obesidade por Sexo em Diferentes Países',\n",
    "             labels={'Obesity': 'Percentual de Obesidade'})\n",
    "\n",
    "# Personalize o layout se necessário\n",
    "fig.update_layout(\n",
    "    xaxis_title='Sexo',\n",
    "    yaxis_title='Percentual de Obesidade',\n",
    "    barmode='group'  # Agrupa as barras por sexo\n",
    ")\n",
    "\n",
    "# Exibir o gráfico\n",
    "fig.show()\n"
   ]
  },
  {
   "cell_type": "code",
   "execution_count": null,
   "id": "f9b572f2",
   "metadata": {},
   "outputs": [],
   "source": [
    "# Filtrar o DataFrame para incluir apenas os dados do Brasil\n",
    "df_brazil_sex = df_obesity[df_obesity['Country'] == 'Brazil']\n",
    "\n",
    "# Calcular a média de obesidade por sexo\n",
    "mean_obesity_brazil_by_sex = df_brazil_sex.groupby('Sex')['Obesity'].mean().reset_index()\n",
    "\n",
    "# Exibir a média de obesidade do Brasil por sexo\n",
    "print(mean_obesity_brazil_by_sex)\n"
   ]
  },
  {
   "cell_type": "code",
   "execution_count": null,
   "id": "0874b09f",
   "metadata": {},
   "outputs": [],
   "source": [
    "import plotly.express as px\n",
    "\n",
    "# Filtrar o DataFrame para incluir apenas os dados do Brasil\n",
    "df_brazil_sex = df_obesity[df_obesity['Country'] == 'Brazil']\n",
    "\n",
    "# Calcular a média de obesidade por sexo no Brasil\n",
    "mean_obesity_brazil_by_sex = df_brazil_sex.groupby('Sex')['Obesity'].mean().reset_index()\n",
    "\n",
    "# Calcular a média de obesidade por sexo mundial\n",
    "mean_obesity_by_sex = df_obesity.groupby('Sex')['Obesity'].mean().reset_index()\n",
    "\n",
    "# Criar um DataFrame combinado para comparar\n",
    "df_combined = pd.concat([mean_obesity_by_sex, mean_obesity_brazil_by_sex.assign(Location='Brazil')])\n",
    "\n",
    "# Plotar o gráfico comparativo\n",
    "fig = px.bar(df_combined, x='Sex', y='Obesity', color='Location', title='Comparativo de Obesidade por Sexo',\n",
    "             labels={'Obesity': 'Média de Obesidade (%)', 'Location': 'Localização'})\n",
    "\n",
    "# Mostrar o gráfico\n",
    "fig.show()\n"
   ]
  },
  {
   "cell_type": "code",
   "execution_count": null,
   "id": "c39770e6",
   "metadata": {
    "scrolled": true
   },
   "outputs": [],
   "source": [
    "import plotly.express as px\n",
    "\n",
    "# Filtrar o DataFrame para incluir apenas os dados do Brasil\n",
    "df_brazil_sex = df_obesity[df_obesity['Country'] == 'Brazil']\n",
    "\n",
    "# Calcular a média de obesidade por sexo no Brasil\n",
    "mean_obesity_brazil_by_sex = df_brazil_sex.groupby('Sex')['Obesity'].mean().reset_index()\n",
    "\n",
    "# Calcular a média de obesidade por sexo mundial\n",
    "mean_obesity_by_sex = df_obesity.groupby('Sex')['Obesity'].mean().reset_index()\n",
    "\n",
    "# Criar um DataFrame combinado para comparar Brasil e média mundial\n",
    "df_combined = pd.concat([mean_obesity_by_sex.assign(Location='World'), mean_obesity_brazil_by_sex.assign(Location='Brazil')])\n",
    "\n",
    "# Plotar o gráfico comparativo\n",
    "fig = px.bar(df_combined, x='Sex', y='Obesity', color='Location', title='Comparativo de Obesidade por Sexo',\n",
    "             labels={'Obesity': 'Média de Obesidade (%)', 'Location': 'Localização'})\n",
    "\n",
    "# Mostrar o gráfico\n",
    "fig.show()\n"
   ]
  },
  {
   "cell_type": "code",
   "execution_count": null,
   "id": "b21c0436",
   "metadata": {},
   "outputs": [],
   "source": [
    "import plotly.express as px\n",
    "\n",
    "# Filtrar os dados para o intervalo desejado\n",
    "df_world_mean = df_obesity[(df_obesity.index >= 1975) & (df_obesity.index <= 2016)]\n",
    "\n",
    "# Calcular a média mundial por ano\n",
    "mean_world_by_year = df_world_mean.groupby(df_world_mean.index)['Obesity'].mean().reset_index()\n",
    "\n",
    "# Plotar a evolução da média mundial entre os anos de 1975 e 2016\n",
    "fig = px.line(mean_world_by_year, x='Year', y='Obesity', title='Evolução da média mundial de obesidade (1975-2016)')\n",
    "fig.show()\n"
   ]
  },
  {
   "cell_type": "code",
   "execution_count": null,
   "id": "5e2d1e21",
   "metadata": {},
   "outputs": [],
   "source": [
    "import plotly.express as px\n",
    "\n",
    "# Filtrar os dados para incluir apenas o Brasil\n",
    "df_brazil = df_obesity[df_obesity['Country'] == 'Brazil']\n",
    "\n",
    "# Resetar o índice para tornar o \"Year\" uma coluna novamente\n",
    "df_brazil_reset = df_brazil.reset_index()\n",
    "\n",
    "# Plotar a evolução da obesidade no Brasil\n",
    "fig = px.line(df_brazil_reset, x='Year', y='Obesity', title='Evolução da obesidade no Brasil (1975-2016)')\n",
    "fig.show()\n"
   ]
  },
  {
   "cell_type": "code",
   "execution_count": null,
   "id": "293dd36c",
   "metadata": {},
   "outputs": [],
   "source": [
    "import plotly.express as px\n",
    "\n",
    "# Filtrar os dados para incluir apenas o Brasil\n",
    "df_brazil = df_obesity[df_obesity['Country'] == 'Brazil']\n",
    "\n",
    "# Resetar o índice para tornar o \"Year\" uma coluna novamente\n",
    "df_brazil_reset = df_brazil.reset_index()\n",
    "\n",
    "# Filtrar os dados para o intervalo desejado\n",
    "df_world_mean = df_obesity[(df_obesity.index >= 1975) & (df_obesity.index <= 2016)]\n",
    "\n",
    "# Calcular a média mundial por ano\n",
    "mean_world_by_year = df_world_mean.groupby(df_world_mean.index)['Obesity'].mean().reset_index()\n",
    "\n",
    "# Plotar a evolução da obesidade no Brasil e média mundial\n",
    "fig = px.line(df_brazil_reset, x='Year', y='Obesity', title='Evolução da obesidade no Brasil e Média Mundial (1975-2016)',\n",
    "              line_shape='linear', labels={'Obesity': 'Obesidade (%) - Brasil'})\n",
    "\n",
    "# Adicionar a linha da média mundial ao mesmo gráfico\n",
    "fig.add_trace(px.line(mean_world_by_year, x='Year', y='Obesity', title='Média Mundial',\n",
    "                      line_shape='linear', labels={'Obesity': 'Obesidade (%) - Média Mundial'}).data[0])\n",
    "\n",
    "# Ajustar as cores das linhas\n",
    "fig.update_traces(line=dict(color='blue'), selector=dict(name='Obesity - Brasil'))\n",
    "fig.update_traces(line=dict(color='red'), selector=dict(name='Obesity - Média Mundial'))\n",
    "\n",
    "# Mostrar o gráfico\n",
    "fig.show()\n",
    "\n"
   ]
  },
  {
   "cell_type": "markdown",
   "id": "linear-event",
   "metadata": {},
   "source": [
    "- Quais são os 5 países com a maior e a menor taxa de aumento nos índices de obesidade no período observado?"
   ]
  },
  {
   "cell_type": "code",
   "execution_count": null,
   "id": "9a722c11",
   "metadata": {},
   "outputs": [],
   "source": [
    "# Calcular a diferença nos índices de obesidade entre o primeiro e o último ano para cada país\n",
    "df_obesity['Obesity Change'] = df_obesity.groupby('Country')['Obesity'].transform(lambda x: x.iloc[-1] - x.iloc[0])\n",
    "\n",
    "# Encontrar os 5 países com a maior taxa de aumento\n",
    "top_increase = df_obesity.sort_values('Obesity Change', ascending=False).head(5)\n",
    "\n",
    "# Encontrar os 5 países com a menor taxa de aumento\n",
    "top_decrease = df_obesity.sort_values('Obesity Change').head(5)\n",
    "\n",
    "# Exibir os resultados\n",
    "print(\"Top 5 países com a maior taxa de aumento:\")\n",
    "print(top_increase[['Country', 'Obesity Change']])\n",
    "\n",
    "print(\"\\nTop 5 países com a menor taxa de aumento:\")\n",
    "print(top_decrease[['Country', 'Obesity Change']])\n"
   ]
  },
  {
   "cell_type": "code",
   "execution_count": null,
   "id": "528fe387",
   "metadata": {},
   "outputs": [],
   "source": [
    "import plotly.express as px\n",
    "\n",
    "# Calcular a diferença nos índices de obesidade entre o primeiro e o último ano para cada país\n",
    "df_obesity['Obesity Change'] = df_obesity.groupby('Country')['Obesity'].transform(lambda x: x.iloc[-1] - x.iloc[0])\n",
    "\n",
    "# Encontrar os 5 países com a maior taxa de aumento\n",
    "top_increase = df_obesity.sort_values('Obesity Change', ascending=False).head(5)\n",
    "\n",
    "# Encontrar os 5 países com a menor taxa de aumento\n",
    "top_decrease = df_obesity.sort_values('Obesity Change').head(5)\n",
    "\n",
    "# Exibir os resultados\n",
    "print(\"Top 5 países com a maior taxa de aumento:\")\n",
    "print(top_increase[['Country', 'Obesity Change']])\n",
    "\n",
    "print(\"\\nTop 5 países com a menor taxa de aumento:\")\n",
    "print(top_decrease[['Country', 'Obesity Change']])\n",
    "\n",
    "# Plotar o gráfico\n",
    "fig = px.bar(df_obesity, x='Country', y='Obesity Change',\n",
    "             title='Diferença nos Índices de Obesidade entre o Primeiro e o Último Ano',\n",
    "             labels={'Obesity Change': 'Variação nos Índices de Obesidade'},\n",
    "             color='Country', color_discrete_map={'Country': 'viridis'})\n",
    "\n",
    "# Ajustar layout\n",
    "fig.update_layout(barmode='group')\n",
    "\n",
    "# Mostrar o gráfico\n",
    "fig.show()\n"
   ]
  },
  {
   "cell_type": "code",
   "execution_count": null,
   "id": "edea0295",
   "metadata": {},
   "outputs": [],
   "source": [
    "# Filtrar o DataFrame para incluir apenas os dados do Brasil no período desejado\n",
    "df_brazil_ranking = df_obesity.loc[(df_obesity['Country'] == 'Brazil') & (df_obesity.index >= 1975) & (df_obesity.index <= 2016)]\n",
    "\n",
    "# Calcular a posição no ranking ano a ano\n",
    "brazil_ranking_by_year = df_brazil_ranking['Obesity'].rank(ascending=False)\n",
    "\n",
    "# Exibir a posição no ranking ano a ano\n",
    "print(brazil_ranking_by_year)\n"
   ]
  },
  {
   "cell_type": "code",
   "execution_count": null,
   "id": "d011f3f7",
   "metadata": {},
   "outputs": [],
   "source": [
    "import plotly.express as px\n",
    "\n",
    "# Filtrar o DataFrame para incluir apenas os dados do Brasil no período desejado\n",
    "df_brazil_ranking = df_obesity.loc[(df_obesity['Country'] == 'Brazil') & (df_obesity.index >= 1975) & (df_obesity.index <= 2016)]\n",
    "\n",
    "# Calcular a posição no ranking ano a ano\n",
    "brazil_ranking_by_year = df_brazil_ranking['Obesity'].rank(ascending=False)\n",
    "\n",
    "# Criar DataFrame para o gráfico\n",
    "df_plot = pd.DataFrame({'Year': brazil_ranking_by_year.index, 'Ranking Position': brazil_ranking_by_year.values})\n",
    "\n",
    "# Plotar o gráfico\n",
    "fig = px.line(df_plot, x='Year', y='Ranking Position', title='Posição no Ranking de Obesidade do Brasil (1975-2016)',\n",
    "              labels={'Ranking Position': 'Posição no Ranking'})\n",
    "\n",
    "# Mostrar o gráfico\n",
    "fig.show()\n"
   ]
  },
  {
   "cell_type": "code",
   "execution_count": null,
   "id": "458a1283",
   "metadata": {},
   "outputs": [],
   "source": [
    "import plotly.express as px\n",
    "\n",
    "# Filtrar o DataFrame para incluir apenas os dados do Brasil no período desejado\n",
    "df_brazil_sex = df_obesity[(df_obesity['Country'] == 'Brazil') & (df_obesity.index >= 1975) & (df_obesity.index <= 2016)]\n",
    "\n",
    "# Calcular a posição no ranking por sexo ano a ano\n",
    "brazil_ranking_by_sex = df_brazil_sex.groupby('Sex')['Obesity'].rank(ascending=False)\n",
    "\n",
    "# Criar DataFrame para o gráfico\n",
    "df_plot_sex = pd.DataFrame({'Year': df_brazil_sex.index, 'Sex': brazil_ranking_by_sex.index, 'Ranking Position': brazil_ranking_by_sex.values})\n",
    "\n",
    "# Plotar o gráfico\n",
    "fig_sex = px.line(df_plot_sex, x='Year', y='Ranking Position', color='Sex', title='Evolução no Ranking de Obesidade por Sexo no Brasil (1975-2016)',\n",
    "                   labels={'Ranking Position': 'Posição no Ranking', 'Sex': 'Sexo'})\n",
    "\n",
    "# Mostrar o gráfico\n",
    "fig_sex.show()\n"
   ]
  },
  {
   "cell_type": "markdown",
   "id": "sticky-tiffany",
   "metadata": {},
   "source": [
    "- Quais os países com maiores e menores níveis percetuais de obesidade em 2015?"
   ]
  },
  {
   "cell_type": "code",
   "execution_count": null,
   "id": "complicated-robertson",
   "metadata": {},
   "outputs": [],
   "source": [
    "df_2015 = df_obesity[df_obesity.index == 2015].copy()\n",
    "df_2015[df_2015[\"Obesity\"] == df_2015[\"Obesity\"].max()]"
   ]
  },
  {
   "cell_type": "code",
   "execution_count": null,
   "id": "talented-lebanon",
   "metadata": {},
   "outputs": [],
   "source": [
    "df_2015 = df_obesity[df_obesity.index == 2015].copy()\n",
    "df_2015[df_2015[\"Obesity\"] == df_2015[\"Obesity\"].min()]"
   ]
  },
  {
   "cell_type": "markdown",
   "id": "detected-broad",
   "metadata": {},
   "source": [
    "- Qual a diferença média percentual de obesidade entre sexos ao longo dos anos para o Brasil?"
   ]
  },
  {
   "cell_type": "code",
   "execution_count": null,
   "id": "4ebc8981",
   "metadata": {},
   "outputs": [],
   "source": [
    "# Filtrar o DataFrame para incluir apenas os dados do Brasil\n",
    "df_brazil = df_obesity[df_obesity['Country'] == 'Brazil']\n",
    "\n",
    "# Calcular a diferença percentual de obesidade entre sexos\n",
    "df_brazil['Obesity Difference'] = df_brazil.groupby(df_brazil.index)['Obesity'].transform(lambda x: (x.diff() / x.shift()) * 100)\n",
    "\n",
    "# Calcular a média da diferença percentual ao longo dos anos\n",
    "mean_difference = df_brazil.groupby(df_brazil.index)['Obesity Difference'].mean().reset_index()\n",
    "\n",
    "# Plotar o gráfico\n",
    "fig = px.line(mean_difference, x='Year', y='Obesity Difference', title='Diferença Média Percentual de Obesidade entre Sexos no Brasil',\n",
    "              labels={'Obesity Difference': 'Diferença Média Percentual de Obesidade'})\n",
    "\n",
    "# Mostrar o gráfico\n",
    "fig.show()"
   ]
  },
  {
   "cell_type": "code",
   "execution_count": null,
   "id": "803832c4",
   "metadata": {},
   "outputs": [],
   "source": [
    "# Criar um novo índice numérico\n",
    "df_obesity_reset = df_obesity.reset_index()\n",
    "\n",
    "# Filtrar o DataFrame para incluir apenas os dados do Brasil\n",
    "df_brazil = df_obesity_reset[df_obesity_reset['Country'] == 'Brazil']\n",
    "\n",
    "# Calcular a diferença percentual de obesidade entre sexos\n",
    "df_brazil['Obesity Difference'] = df_brazil.groupby(['Year', 'Sex'])['Obesity'].transform(lambda x: (x.diff() / x.shift()) * 100)\n",
    "\n",
    "# Calcular a média da diferença percentual ao longo dos anos\n",
    "mean_difference = df_brazil.groupby(['Year', 'Sex'])['Obesity Difference'].mean().reset_index()\n",
    "\n",
    "# Plotar o gráfico\n",
    "fig = px.line(mean_difference, x='Year', y='Obesity Difference', color='Sex',\n",
    "              title='Diferença Média Percentual de Obesidade entre Sexos no Brasil',\n",
    "              labels={'Obesity Difference': 'Diferença Média Percentual de Obesidade'})\n",
    "\n",
    "# Mostrar o gráfico\n",
    "fig.show()"
   ]
  },
  {
   "cell_type": "code",
   "execution_count": null,
   "id": "9a9b1bbc",
   "metadata": {},
   "outputs": [],
   "source": []
  }
 ],
 "metadata": {
  "kernelspec": {
   "display_name": "Python 3 (ipykernel)",
   "language": "python",
   "name": "python3"
  },
  "language_info": {
   "codemirror_mode": {
    "name": "ipython",
    "version": 3
   },
   "file_extension": ".py",
   "mimetype": "text/x-python",
   "name": "python",
   "nbconvert_exporter": "python",
   "pygments_lexer": "ipython3",
   "version": "3.11.5"
  }
 },
 "nbformat": 4,
 "nbformat_minor": 5
}
